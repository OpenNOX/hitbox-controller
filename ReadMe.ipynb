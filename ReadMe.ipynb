{
 "cells": [
  {
   "attachments": {},
   "cell_type": "markdown",
   "metadata": {},
   "source": [
    "# Layout Calculator"
   ]
  },
  {
   "cell_type": "code",
   "execution_count": 2,
   "metadata": {},
   "outputs": [
    {
     "name": "stdout",
     "output_type": "stream",
     "text": [
      "Layer Width:\t3301\n",
      "Layer Height:\t2551\n",
      "New Width:\t4126\n",
      "New Height:\t3189\n"
     ]
    }
   ],
   "source": [
    "scale_factor = 1.25\n",
    "layer_width = 3301\n",
    "layer_height = 2551\n",
    "\n",
    "print(f'Layer Width:\\t{layer_width}')\n",
    "print(f'Layer Height:\\t{layer_height}')\n",
    "print(f'New Width:\\t{round(layer_width * scale_factor)}')\n",
    "print(f'New Height:\\t{round(layer_height * scale_factor)}')"
   ]
  }
 ],
 "metadata": {
  "kernelspec": {
   "display_name": "Python 3",
   "language": "python",
   "name": "python3"
  },
  "language_info": {
   "codemirror_mode": {
    "name": "ipython",
    "version": 3
   },
   "file_extension": ".py",
   "mimetype": "text/x-python",
   "name": "python",
   "nbconvert_exporter": "python",
   "pygments_lexer": "ipython3",
   "version": "3.11.4"
  },
  "orig_nbformat": 4
 },
 "nbformat": 4,
 "nbformat_minor": 2
}
